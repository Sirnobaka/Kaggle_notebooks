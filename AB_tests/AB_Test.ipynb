{
 "cells": [
  {
   "cell_type": "code",
   "execution_count": 208,
   "id": "brutal-festival",
   "metadata": {},
   "outputs": [],
   "source": [
    "import math\n",
    "import numpy as np\n",
    "from scipy import stats\n",
    "import matplotlib.pyplot as plt\n",
    "import pandas as pd\n",
    "import seaborn as sns\n",
    "from sklearn import tree\n",
    "from sklearn.metrics import precision_score\n",
    "import random\n",
    "\n",
    "\n",
    "%matplotlib inline\n",
    "plt.rcParams.update({\n",
    "        'font.size': 14,\n",
    "        'axes.titlesize': 20,\n",
    "        'axes.labelsize': 20,\n",
    "        'xtick.labelsize': 20,\n",
    "        'ytick.labelsize': 20,\n",
    "        'font.size': 20,\n",
    "        'figure.figsize': (10, 7),\n",
    "        'axes.grid': True,\n",
    "        'grid.linestyle': '-',\n",
    "        'grid.alpha': 0.3,\n",
    "        'lines.markersize': 5.0,\n",
    "        'xtick.minor.visible': True,\n",
    "        'xtick.direction': 'in',\n",
    "        'xtick.major.size': 20.0,\n",
    "        'xtick.minor.size': 10.0,\n",
    "        'xtick.top': False,\n",
    "        'xtick.bottom': True,\n",
    "        'ytick.minor.visible': True,\n",
    "        'ytick.direction': 'in',\n",
    "        'ytick.major.size': 12.0,\n",
    "        'ytick.minor.size': 6.0,\n",
    "        'ytick.right': True,\n",
    "        'errorbar.capsize': 0.0,\n",
    "    })"
   ]
  },
  {
   "cell_type": "markdown",
   "id": "fabulous-tamil",
   "metadata": {},
   "source": [
    "# 1. Get the data"
   ]
  },
  {
   "cell_type": "code",
   "execution_count": 209,
   "id": "sorted-yacht",
   "metadata": {},
   "outputs": [
    {
     "data": {
      "text/html": [
       "<div>\n",
       "<style scoped>\n",
       "    .dataframe tbody tr th:only-of-type {\n",
       "        vertical-align: middle;\n",
       "    }\n",
       "\n",
       "    .dataframe tbody tr th {\n",
       "        vertical-align: top;\n",
       "    }\n",
       "\n",
       "    .dataframe thead th {\n",
       "        text-align: right;\n",
       "    }\n",
       "</style>\n",
       "<table border=\"1\" class=\"dataframe\">\n",
       "  <thead>\n",
       "    <tr style=\"text-align: right;\">\n",
       "      <th></th>\n",
       "      <th>USER_ID</th>\n",
       "      <th>VARIANT_NAME</th>\n",
       "      <th>REVENUE</th>\n",
       "    </tr>\n",
       "  </thead>\n",
       "  <tbody>\n",
       "    <tr>\n",
       "      <th>0</th>\n",
       "      <td>737</td>\n",
       "      <td>variant</td>\n",
       "      <td>0.0</td>\n",
       "    </tr>\n",
       "    <tr>\n",
       "      <th>1</th>\n",
       "      <td>2423</td>\n",
       "      <td>control</td>\n",
       "      <td>0.0</td>\n",
       "    </tr>\n",
       "    <tr>\n",
       "      <th>2</th>\n",
       "      <td>9411</td>\n",
       "      <td>control</td>\n",
       "      <td>0.0</td>\n",
       "    </tr>\n",
       "    <tr>\n",
       "      <th>3</th>\n",
       "      <td>7311</td>\n",
       "      <td>control</td>\n",
       "      <td>0.0</td>\n",
       "    </tr>\n",
       "    <tr>\n",
       "      <th>4</th>\n",
       "      <td>6174</td>\n",
       "      <td>variant</td>\n",
       "      <td>0.0</td>\n",
       "    </tr>\n",
       "  </tbody>\n",
       "</table>\n",
       "</div>"
      ],
      "text/plain": [
       "   USER_ID VARIANT_NAME  REVENUE\n",
       "0      737      variant      0.0\n",
       "1     2423      control      0.0\n",
       "2     9411      control      0.0\n",
       "3     7311      control      0.0\n",
       "4     6174      variant      0.0"
      ]
     },
     "execution_count": 209,
     "metadata": {},
     "output_type": "execute_result"
    }
   ],
   "source": [
    "data = pd.read_csv('AB_Test_Results.csv')\n",
    "data.head()"
   ]
  },
  {
   "cell_type": "code",
   "execution_count": 210,
   "id": "motivated-wallet",
   "metadata": {},
   "outputs": [
    {
     "data": {
      "text/html": [
       "<div>\n",
       "<style scoped>\n",
       "    .dataframe tbody tr th:only-of-type {\n",
       "        vertical-align: middle;\n",
       "    }\n",
       "\n",
       "    .dataframe tbody tr th {\n",
       "        vertical-align: top;\n",
       "    }\n",
       "\n",
       "    .dataframe thead th {\n",
       "        text-align: right;\n",
       "    }\n",
       "</style>\n",
       "<table border=\"1\" class=\"dataframe\">\n",
       "  <thead>\n",
       "    <tr style=\"text-align: right;\">\n",
       "      <th></th>\n",
       "      <th>USER_ID</th>\n",
       "      <th>REVENUE</th>\n",
       "    </tr>\n",
       "  </thead>\n",
       "  <tbody>\n",
       "    <tr>\n",
       "      <th>count</th>\n",
       "      <td>10000.000000</td>\n",
       "      <td>10000.000000</td>\n",
       "    </tr>\n",
       "    <tr>\n",
       "      <th>mean</th>\n",
       "      <td>4981.080200</td>\n",
       "      <td>0.099447</td>\n",
       "    </tr>\n",
       "    <tr>\n",
       "      <th>std</th>\n",
       "      <td>2890.590115</td>\n",
       "      <td>2.318529</td>\n",
       "    </tr>\n",
       "    <tr>\n",
       "      <th>min</th>\n",
       "      <td>2.000000</td>\n",
       "      <td>0.000000</td>\n",
       "    </tr>\n",
       "    <tr>\n",
       "      <th>25%</th>\n",
       "      <td>2468.750000</td>\n",
       "      <td>0.000000</td>\n",
       "    </tr>\n",
       "    <tr>\n",
       "      <th>50%</th>\n",
       "      <td>4962.000000</td>\n",
       "      <td>0.000000</td>\n",
       "    </tr>\n",
       "    <tr>\n",
       "      <th>75%</th>\n",
       "      <td>7511.500000</td>\n",
       "      <td>0.000000</td>\n",
       "    </tr>\n",
       "    <tr>\n",
       "      <th>max</th>\n",
       "      <td>10000.000000</td>\n",
       "      <td>196.010000</td>\n",
       "    </tr>\n",
       "  </tbody>\n",
       "</table>\n",
       "</div>"
      ],
      "text/plain": [
       "            USER_ID       REVENUE\n",
       "count  10000.000000  10000.000000\n",
       "mean    4981.080200      0.099447\n",
       "std     2890.590115      2.318529\n",
       "min        2.000000      0.000000\n",
       "25%     2468.750000      0.000000\n",
       "50%     4962.000000      0.000000\n",
       "75%     7511.500000      0.000000\n",
       "max    10000.000000    196.010000"
      ]
     },
     "execution_count": 210,
     "metadata": {},
     "output_type": "execute_result"
    }
   ],
   "source": [
    "data.describe()"
   ]
  },
  {
   "cell_type": "code",
   "execution_count": 211,
   "id": "alien-plant",
   "metadata": {},
   "outputs": [
    {
     "name": "stdout",
     "output_type": "stream",
     "text": [
      "<class 'pandas.core.frame.DataFrame'>\n",
      "RangeIndex: 10000 entries, 0 to 9999\n",
      "Data columns (total 3 columns):\n",
      " #   Column        Non-Null Count  Dtype  \n",
      "---  ------        --------------  -----  \n",
      " 0   USER_ID       10000 non-null  int64  \n",
      " 1   VARIANT_NAME  10000 non-null  object \n",
      " 2   REVENUE       10000 non-null  float64\n",
      "dtypes: float64(1), int64(1), object(1)\n",
      "memory usage: 234.5+ KB\n"
     ]
    }
   ],
   "source": [
    "data.info()"
   ]
  },
  {
   "cell_type": "code",
   "execution_count": 214,
   "id": "sustained-concern",
   "metadata": {},
   "outputs": [
    {
     "data": {
      "text/html": [
       "<div>\n",
       "<style scoped>\n",
       "    .dataframe tbody tr th:only-of-type {\n",
       "        vertical-align: middle;\n",
       "    }\n",
       "\n",
       "    .dataframe tbody tr th {\n",
       "        vertical-align: top;\n",
       "    }\n",
       "\n",
       "    .dataframe thead tr th {\n",
       "        text-align: left;\n",
       "    }\n",
       "\n",
       "    .dataframe thead tr:last-of-type th {\n",
       "        text-align: right;\n",
       "    }\n",
       "</style>\n",
       "<table border=\"1\" class=\"dataframe\">\n",
       "  <thead>\n",
       "    <tr>\n",
       "      <th></th>\n",
       "      <th colspan=\"3\" halign=\"left\">REVENUE</th>\n",
       "    </tr>\n",
       "    <tr>\n",
       "      <th></th>\n",
       "      <th>mean</th>\n",
       "      <th>std</th>\n",
       "      <th>count</th>\n",
       "    </tr>\n",
       "    <tr>\n",
       "      <th>VARIANT_NAME</th>\n",
       "      <th></th>\n",
       "      <th></th>\n",
       "      <th></th>\n",
       "    </tr>\n",
       "  </thead>\n",
       "  <tbody>\n",
       "    <tr>\n",
       "      <th>control</th>\n",
       "      <td>0.129013</td>\n",
       "      <td>3.007524</td>\n",
       "      <td>4984</td>\n",
       "    </tr>\n",
       "    <tr>\n",
       "      <th>variant</th>\n",
       "      <td>0.070070</td>\n",
       "      <td>1.314802</td>\n",
       "      <td>5016</td>\n",
       "    </tr>\n",
       "  </tbody>\n",
       "</table>\n",
       "</div>"
      ],
      "text/plain": [
       "               REVENUE                \n",
       "                  mean       std count\n",
       "VARIANT_NAME                          \n",
       "control       0.129013  3.007524  4984\n",
       "variant       0.070070  1.314802  5016"
      ]
     },
     "execution_count": 214,
     "metadata": {},
     "output_type": "execute_result"
    }
   ],
   "source": [
    "data[['VARIANT_NAME', 'REVENUE']].groupby(by=['VARIANT_NAME'])\\\n",
    "    .agg(['mean', 'std', 'count'])"
   ]
  },
  {
   "cell_type": "code",
   "execution_count": 215,
   "id": "august-wound",
   "metadata": {},
   "outputs": [
    {
     "name": "stdout",
     "output_type": "stream",
     "text": [
      "total users = 10000\n",
      "unique users = 6324\n"
     ]
    }
   ],
   "source": [
    "print(f\"total users = {data['USER_ID'].count()}\")\n",
    "print(f\"unique users = {data['USER_ID'].nunique()}\")"
   ]
  },
  {
   "cell_type": "markdown",
   "id": "medical-bangladesh",
   "metadata": {},
   "source": [
    "# 2. Data cleaning"
   ]
  },
  {
   "cell_type": "markdown",
   "id": "looking-measure",
   "metadata": {},
   "source": [
    "## 2.1 Drop USER_IDs with two variants (control, variant)"
   ]
  },
  {
   "cell_type": "code",
   "execution_count": 216,
   "id": "cultural-while",
   "metadata": {},
   "outputs": [],
   "source": [
    "# Drop users who are in both control and variant\n",
    "\n",
    "# build Series with not duplicated users\n",
    "not_duplicated = (data.groupby(\"USER_ID\")[\"VARIANT_NAME\"].nunique() == 1)\n",
    "not_duplicated = not_duplicated[not_duplicated]\n",
    "\n",
    "# select\n",
    "data = data[data['USER_ID'].isin(not_duplicated.index)]"
   ]
  },
  {
   "cell_type": "code",
   "execution_count": 217,
   "id": "conscious-malta",
   "metadata": {},
   "outputs": [
    {
     "data": {
      "text/html": [
       "<div>\n",
       "<style scoped>\n",
       "    .dataframe tbody tr th:only-of-type {\n",
       "        vertical-align: middle;\n",
       "    }\n",
       "\n",
       "    .dataframe tbody tr th {\n",
       "        vertical-align: top;\n",
       "    }\n",
       "\n",
       "    .dataframe thead th {\n",
       "        text-align: right;\n",
       "    }\n",
       "</style>\n",
       "<table border=\"1\" class=\"dataframe\">\n",
       "  <thead>\n",
       "    <tr style=\"text-align: right;\">\n",
       "      <th></th>\n",
       "      <th>USER_ID</th>\n",
       "      <th>VARIANT_NAME</th>\n",
       "      <th>REVENUE</th>\n",
       "    </tr>\n",
       "  </thead>\n",
       "  <tbody>\n",
       "    <tr>\n",
       "      <th>0</th>\n",
       "      <td>737</td>\n",
       "      <td>variant</td>\n",
       "      <td>0.0</td>\n",
       "    </tr>\n",
       "    <tr>\n",
       "      <th>4</th>\n",
       "      <td>6174</td>\n",
       "      <td>variant</td>\n",
       "      <td>0.0</td>\n",
       "    </tr>\n",
       "    <tr>\n",
       "      <th>5</th>\n",
       "      <td>2380</td>\n",
       "      <td>variant</td>\n",
       "      <td>0.0</td>\n",
       "    </tr>\n",
       "    <tr>\n",
       "      <th>7</th>\n",
       "      <td>9168</td>\n",
       "      <td>control</td>\n",
       "      <td>0.0</td>\n",
       "    </tr>\n",
       "    <tr>\n",
       "      <th>9</th>\n",
       "      <td>7548</td>\n",
       "      <td>control</td>\n",
       "      <td>0.0</td>\n",
       "    </tr>\n",
       "    <tr>\n",
       "      <th>10</th>\n",
       "      <td>8395</td>\n",
       "      <td>control</td>\n",
       "      <td>0.0</td>\n",
       "    </tr>\n",
       "    <tr>\n",
       "      <th>11</th>\n",
       "      <td>1184</td>\n",
       "      <td>control</td>\n",
       "      <td>0.0</td>\n",
       "    </tr>\n",
       "    <tr>\n",
       "      <th>12</th>\n",
       "      <td>7165</td>\n",
       "      <td>control</td>\n",
       "      <td>0.0</td>\n",
       "    </tr>\n",
       "    <tr>\n",
       "      <th>14</th>\n",
       "      <td>3489</td>\n",
       "      <td>variant</td>\n",
       "      <td>0.0</td>\n",
       "    </tr>\n",
       "    <tr>\n",
       "      <th>16</th>\n",
       "      <td>7549</td>\n",
       "      <td>variant</td>\n",
       "      <td>0.0</td>\n",
       "    </tr>\n",
       "  </tbody>\n",
       "</table>\n",
       "</div>"
      ],
      "text/plain": [
       "    USER_ID VARIANT_NAME  REVENUE\n",
       "0       737      variant      0.0\n",
       "4      6174      variant      0.0\n",
       "5      2380      variant      0.0\n",
       "7      9168      control      0.0\n",
       "9      7548      control      0.0\n",
       "10     8395      control      0.0\n",
       "11     1184      control      0.0\n",
       "12     7165      control      0.0\n",
       "14     3489      variant      0.0\n",
       "16     7549      variant      0.0"
      ]
     },
     "execution_count": 217,
     "metadata": {},
     "output_type": "execute_result"
    }
   ],
   "source": [
    "data.head(10)"
   ]
  },
  {
   "cell_type": "code",
   "execution_count": 218,
   "id": "japanese-disability",
   "metadata": {},
   "outputs": [
    {
     "data": {
      "text/html": [
       "<div>\n",
       "<style scoped>\n",
       "    .dataframe tbody tr th:only-of-type {\n",
       "        vertical-align: middle;\n",
       "    }\n",
       "\n",
       "    .dataframe tbody tr th {\n",
       "        vertical-align: top;\n",
       "    }\n",
       "\n",
       "    .dataframe thead tr th {\n",
       "        text-align: left;\n",
       "    }\n",
       "\n",
       "    .dataframe thead tr:last-of-type th {\n",
       "        text-align: right;\n",
       "    }\n",
       "</style>\n",
       "<table border=\"1\" class=\"dataframe\">\n",
       "  <thead>\n",
       "    <tr>\n",
       "      <th></th>\n",
       "      <th colspan=\"3\" halign=\"left\">REVENUE</th>\n",
       "    </tr>\n",
       "    <tr>\n",
       "      <th></th>\n",
       "      <th>mean</th>\n",
       "      <th>std</th>\n",
       "      <th>count</th>\n",
       "    </tr>\n",
       "    <tr>\n",
       "      <th>VARIANT_NAME</th>\n",
       "      <th></th>\n",
       "      <th></th>\n",
       "      <th></th>\n",
       "    </tr>\n",
       "  </thead>\n",
       "  <tbody>\n",
       "    <tr>\n",
       "      <th>control</th>\n",
       "      <td>0.155506</td>\n",
       "      <td>3.708620</td>\n",
       "      <td>3026</td>\n",
       "    </tr>\n",
       "    <tr>\n",
       "      <th>variant</th>\n",
       "      <td>0.058909</td>\n",
       "      <td>0.760344</td>\n",
       "      <td>3044</td>\n",
       "    </tr>\n",
       "  </tbody>\n",
       "</table>\n",
       "</div>"
      ],
      "text/plain": [
       "               REVENUE                \n",
       "                  mean       std count\n",
       "VARIANT_NAME                          \n",
       "control       0.155506  3.708620  3026\n",
       "variant       0.058909  0.760344  3044"
      ]
     },
     "execution_count": 218,
     "metadata": {},
     "output_type": "execute_result"
    }
   ],
   "source": [
    "data[['VARIANT_NAME', 'REVENUE']].groupby(by=['VARIANT_NAME'])\\\n",
    "    .agg(['mean', 'std', 'count'])"
   ]
  },
  {
   "cell_type": "markdown",
   "id": "second-equity",
   "metadata": {},
   "source": [
    "## 2.2 Look at extreme REVENUE values  "
   ]
  },
  {
   "cell_type": "code",
   "execution_count": 219,
   "id": "consistent-meter",
   "metadata": {},
   "outputs": [
    {
     "data": {
      "text/html": [
       "<div>\n",
       "<style scoped>\n",
       "    .dataframe tbody tr th:only-of-type {\n",
       "        vertical-align: middle;\n",
       "    }\n",
       "\n",
       "    .dataframe tbody tr th {\n",
       "        vertical-align: top;\n",
       "    }\n",
       "\n",
       "    .dataframe thead th {\n",
       "        text-align: right;\n",
       "    }\n",
       "</style>\n",
       "<table border=\"1\" class=\"dataframe\">\n",
       "  <thead>\n",
       "    <tr style=\"text-align: right;\">\n",
       "      <th></th>\n",
       "      <th>USER_ID</th>\n",
       "      <th>VARIANT_NAME</th>\n",
       "      <th>REVENUE</th>\n",
       "    </tr>\n",
       "  </thead>\n",
       "  <tbody>\n",
       "    <tr>\n",
       "      <th>1437</th>\n",
       "      <td>3342</td>\n",
       "      <td>control</td>\n",
       "      <td>196.01</td>\n",
       "    </tr>\n",
       "    <tr>\n",
       "      <th>8168</th>\n",
       "      <td>2166</td>\n",
       "      <td>control</td>\n",
       "      <td>29.32</td>\n",
       "    </tr>\n",
       "    <tr>\n",
       "      <th>2482</th>\n",
       "      <td>7356</td>\n",
       "      <td>variant</td>\n",
       "      <td>23.04</td>\n",
       "    </tr>\n",
       "    <tr>\n",
       "      <th>6412</th>\n",
       "      <td>1053</td>\n",
       "      <td>control</td>\n",
       "      <td>20.07</td>\n",
       "    </tr>\n",
       "    <tr>\n",
       "      <th>5217</th>\n",
       "      <td>3684</td>\n",
       "      <td>variant</td>\n",
       "      <td>19.47</td>\n",
       "    </tr>\n",
       "    <tr>\n",
       "      <th>5530</th>\n",
       "      <td>282</td>\n",
       "      <td>control</td>\n",
       "      <td>18.56</td>\n",
       "    </tr>\n",
       "    <tr>\n",
       "      <th>758</th>\n",
       "      <td>4445</td>\n",
       "      <td>control</td>\n",
       "      <td>17.05</td>\n",
       "    </tr>\n",
       "    <tr>\n",
       "      <th>4031</th>\n",
       "      <td>2059</td>\n",
       "      <td>control</td>\n",
       "      <td>14.24</td>\n",
       "    </tr>\n",
       "    <tr>\n",
       "      <th>9019</th>\n",
       "      <td>1973</td>\n",
       "      <td>control</td>\n",
       "      <td>14.07</td>\n",
       "    </tr>\n",
       "    <tr>\n",
       "      <th>4561</th>\n",
       "      <td>4966</td>\n",
       "      <td>variant</td>\n",
       "      <td>12.99</td>\n",
       "    </tr>\n",
       "  </tbody>\n",
       "</table>\n",
       "</div>"
      ],
      "text/plain": [
       "      USER_ID VARIANT_NAME  REVENUE\n",
       "1437     3342      control   196.01\n",
       "8168     2166      control    29.32\n",
       "2482     7356      variant    23.04\n",
       "6412     1053      control    20.07\n",
       "5217     3684      variant    19.47\n",
       "5530      282      control    18.56\n",
       "758      4445      control    17.05\n",
       "4031     2059      control    14.24\n",
       "9019     1973      control    14.07\n",
       "4561     4966      variant    12.99"
      ]
     },
     "execution_count": 219,
     "metadata": {},
     "output_type": "execute_result"
    }
   ],
   "source": [
    "data.sort_values(by='REVENUE', ascending=False).head(10)"
   ]
  },
  {
   "cell_type": "code",
   "execution_count": 220,
   "id": "experimental-bidding",
   "metadata": {},
   "outputs": [
    {
     "data": {
      "text/html": [
       "<div>\n",
       "<style scoped>\n",
       "    .dataframe tbody tr th:only-of-type {\n",
       "        vertical-align: middle;\n",
       "    }\n",
       "\n",
       "    .dataframe tbody tr th {\n",
       "        vertical-align: top;\n",
       "    }\n",
       "\n",
       "    .dataframe thead th {\n",
       "        text-align: right;\n",
       "    }\n",
       "</style>\n",
       "<table border=\"1\" class=\"dataframe\">\n",
       "  <thead>\n",
       "    <tr style=\"text-align: right;\">\n",
       "      <th></th>\n",
       "      <th>USER_ID</th>\n",
       "      <th>VARIANT_NAME</th>\n",
       "      <th>REVENUE</th>\n",
       "    </tr>\n",
       "  </thead>\n",
       "  <tbody>\n",
       "    <tr>\n",
       "      <th>1437</th>\n",
       "      <td>3342</td>\n",
       "      <td>control</td>\n",
       "      <td>196.01</td>\n",
       "    </tr>\n",
       "  </tbody>\n",
       "</table>\n",
       "</div>"
      ],
      "text/plain": [
       "      USER_ID VARIANT_NAME  REVENUE\n",
       "1437     3342      control   196.01"
      ]
     },
     "execution_count": 220,
     "metadata": {},
     "output_type": "execute_result"
    }
   ],
   "source": [
    "# Drop user with USER_ID = 3342\n",
    "data[data['USER_ID'] == 3342]"
   ]
  },
  {
   "cell_type": "code",
   "execution_count": 221,
   "id": "finnish-challenge",
   "metadata": {},
   "outputs": [],
   "source": [
    "data = data[~(data['USER_ID'] == 3342)]"
   ]
  },
  {
   "cell_type": "code",
   "execution_count": 222,
   "id": "parliamentary-internship",
   "metadata": {},
   "outputs": [
    {
     "data": {
      "text/html": [
       "<div>\n",
       "<style scoped>\n",
       "    .dataframe tbody tr th:only-of-type {\n",
       "        vertical-align: middle;\n",
       "    }\n",
       "\n",
       "    .dataframe tbody tr th {\n",
       "        vertical-align: top;\n",
       "    }\n",
       "\n",
       "    .dataframe thead tr th {\n",
       "        text-align: left;\n",
       "    }\n",
       "\n",
       "    .dataframe thead tr:last-of-type th {\n",
       "        text-align: right;\n",
       "    }\n",
       "</style>\n",
       "<table border=\"1\" class=\"dataframe\">\n",
       "  <thead>\n",
       "    <tr>\n",
       "      <th></th>\n",
       "      <th>USER_ID</th>\n",
       "      <th colspan=\"4\" halign=\"left\">REVENUE</th>\n",
       "    </tr>\n",
       "    <tr>\n",
       "      <th></th>\n",
       "      <th>nunique</th>\n",
       "      <th>sum</th>\n",
       "      <th>mean</th>\n",
       "      <th>median</th>\n",
       "      <th>count</th>\n",
       "    </tr>\n",
       "    <tr>\n",
       "      <th>VARIANT_NAME</th>\n",
       "      <th></th>\n",
       "      <th></th>\n",
       "      <th></th>\n",
       "      <th></th>\n",
       "      <th></th>\n",
       "    </tr>\n",
       "  </thead>\n",
       "  <tbody>\n",
       "    <tr>\n",
       "      <th>control</th>\n",
       "      <td>2389</td>\n",
       "      <td>274.55</td>\n",
       "      <td>0.090760</td>\n",
       "      <td>0.0</td>\n",
       "      <td>3025</td>\n",
       "    </tr>\n",
       "    <tr>\n",
       "      <th>variant</th>\n",
       "      <td>2393</td>\n",
       "      <td>179.32</td>\n",
       "      <td>0.058909</td>\n",
       "      <td>0.0</td>\n",
       "      <td>3044</td>\n",
       "    </tr>\n",
       "  </tbody>\n",
       "</table>\n",
       "</div>"
      ],
      "text/plain": [
       "             USER_ID REVENUE                       \n",
       "             nunique     sum      mean median count\n",
       "VARIANT_NAME                                       \n",
       "control         2389  274.55  0.090760    0.0  3025\n",
       "variant         2393  179.32  0.058909    0.0  3044"
      ]
     },
     "execution_count": 222,
     "metadata": {},
     "output_type": "execute_result"
    }
   ],
   "source": [
    "# A/B Groups & Target Summary Stats\n",
    "data.groupby(by='VARIANT_NAME').agg({'USER_ID': 'nunique',\n",
    "                                   'REVENUE': ['sum', 'mean', 'median', 'count']})"
   ]
  },
  {
   "cell_type": "code",
   "execution_count": 223,
   "id": "improving-annual",
   "metadata": {},
   "outputs": [
    {
     "name": "stdout",
     "output_type": "stream",
     "text": [
      "Control:\n",
      "users paid = 53\n",
      "total paid = 274.55\n",
      "Variant:\n",
      "users paid = 43\n",
      "total paid = 179.32\n"
     ]
    },
    {
     "data": {
      "image/png": "[encoded data removed]",
      "text/plain": [
       "<Figure size 1080x1152 with 2 Axes>"
      ]
     },
     "metadata": {
      "needs_background": "light"
     },
     "output_type": "display_data"
    }
   ],
   "source": [
    "fig, ax = plt.subplots(2, 1, figsize=[15, 16])\n",
    "data[data.VARIANT_NAME == 'control'].REVENUE.sort_values(\n",
    "    ascending=False).head(10)\n",
    "\n",
    "print(\"Control:\")\n",
    "print(\n",
    "    f\"users paid = {data[(data.VARIANT_NAME == 'control') & (data['REVENUE'] > 0)].agg({'REVENUE': 'count'})[0]}\"\n",
    ")\n",
    "print(\n",
    "    f\"total paid = {data[(data.VARIANT_NAME == 'control') & (data['REVENUE'] > 0)].agg({'REVENUE': 'sum'})[0]}\"\n",
    ")\n",
    "\n",
    "revnue_control_cuted = data[(data.VARIANT_NAME == 'control')\n",
    "                            & (data['REVENUE'] > 0)].REVENUE\n",
    "\n",
    "ax[0].hist(revnue_control_cuted, bins=100)\n",
    "ax[0].set_title('Control, REVENUE > 0')\n",
    "ax[0].set_xlabel('Count')\n",
    "ax[0].set_ylabel('REVENUE')\n",
    "\n",
    "print(\"Variant:\")\n",
    "print(\n",
    "    f\"users paid = {data[(data.VARIANT_NAME == 'variant') & (data['REVENUE'] > 0)].agg({'REVENUE': 'count'})[0]}\"\n",
    ")\n",
    "print(\n",
    "    f\"total paid = {data[(data.VARIANT_NAME == 'variant') & (data['REVENUE'] > 0)].agg({'REVENUE': 'sum'})[0]}\"\n",
    ")\n",
    "\n",
    "revnue_variant_cuted = data[(data.VARIANT_NAME == 'variant')\n",
    "                            & (data['REVENUE'] > 0)].REVENUE\n",
    "\n",
    "ax[1].hist(revnue_variant_cuted, bins=100, color='orange')\n",
    "ax[1].set_title('Variant, REVENUE > 0')\n",
    "ax[1].set_xlabel('Count')\n",
    "ax[1].set_ylabel('REVENUE')\n",
    "\n",
    "plt.show()"
   ]
  },
  {
   "cell_type": "markdown",
   "id": "floating-memphis",
   "metadata": {},
   "source": [
    "## 2.3 Discard users which have multiple inputs"
   ]
  },
  {
   "cell_type": "code",
   "execution_count": 224,
   "id": "optimum-seattle",
   "metadata": {},
   "outputs": [],
   "source": [
    "# We get only users with unique USER_ID (and unique VARIANT NAME)\n",
    "\n",
    "data = data.groupby(by=['USER_ID', 'VARIANT_NAME']).sum().reset_index()"
   ]
  },
  {
   "cell_type": "code",
   "execution_count": 225,
   "id": "sonic-example",
   "metadata": {},
   "outputs": [
    {
     "data": {
      "text/html": [
       "<div>\n",
       "<style scoped>\n",
       "    .dataframe tbody tr th:only-of-type {\n",
       "        vertical-align: middle;\n",
       "    }\n",
       "\n",
       "    .dataframe tbody tr th {\n",
       "        vertical-align: top;\n",
       "    }\n",
       "\n",
       "    .dataframe thead tr th {\n",
       "        text-align: left;\n",
       "    }\n",
       "\n",
       "    .dataframe thead tr:last-of-type th {\n",
       "        text-align: right;\n",
       "    }\n",
       "</style>\n",
       "<table border=\"1\" class=\"dataframe\">\n",
       "  <thead>\n",
       "    <tr>\n",
       "      <th></th>\n",
       "      <th colspan=\"3\" halign=\"left\">REVENUE</th>\n",
       "    </tr>\n",
       "    <tr>\n",
       "      <th></th>\n",
       "      <th>mean</th>\n",
       "      <th>std</th>\n",
       "      <th>count</th>\n",
       "    </tr>\n",
       "    <tr>\n",
       "      <th>VARIANT_NAME</th>\n",
       "      <th></th>\n",
       "      <th></th>\n",
       "      <th></th>\n",
       "    </tr>\n",
       "  </thead>\n",
       "  <tbody>\n",
       "    <tr>\n",
       "      <th>control</th>\n",
       "      <td>0.114923</td>\n",
       "      <td>1.162495</td>\n",
       "      <td>2389</td>\n",
       "    </tr>\n",
       "    <tr>\n",
       "      <th>variant</th>\n",
       "      <td>0.074935</td>\n",
       "      <td>0.858207</td>\n",
       "      <td>2393</td>\n",
       "    </tr>\n",
       "  </tbody>\n",
       "</table>\n",
       "</div>"
      ],
      "text/plain": [
       "               REVENUE                \n",
       "                  mean       std count\n",
       "VARIANT_NAME                          \n",
       "control       0.114923  1.162495  2389\n",
       "variant       0.074935  0.858207  2393"
      ]
     },
     "execution_count": 225,
     "metadata": {},
     "output_type": "execute_result"
    }
   ],
   "source": [
    "data[['VARIANT_NAME', 'REVENUE']].groupby(by=['VARIANT_NAME'])\\\n",
    "    .agg(['mean', 'std', 'count'])"
   ]
  },
  {
   "cell_type": "markdown",
   "id": "interior-organization",
   "metadata": {},
   "source": [
    "# 3. Statistical analysis"
   ]
  },
  {
   "cell_type": "markdown",
   "id": "other-family",
   "metadata": {},
   "source": [
    "## 3.1 Cheking if distribution is normal"
   ]
  },
  {
   "cell_type": "markdown",
   "id": "biblical-recycling",
   "metadata": {},
   "source": [
    "From histograms we seen that data are not normaly distributed, check it with Shapiro-Wilks test <br>\n",
    "https://en.wikipedia.org/wiki/Shapiro%E2%80%93Wilk_test"
   ]
  },
  {
   "cell_type": "code",
   "execution_count": 226,
   "id": "structured-number",
   "metadata": {},
   "outputs": [
    {
     "name": "stdout",
     "output_type": "stream",
     "text": [
      "Shapiro-Wilks test for control sample\n",
      "----------------------------------------------------------------------\n",
      "All users\n"
     ]
    },
    {
     "data": {
      "text/plain": [
       "ShapiroResult(statistic=0.07461178302764893, pvalue=0.0)"
      ]
     },
     "metadata": {},
     "output_type": "display_data"
    },
    {
     "name": "stdout",
     "output_type": "stream",
     "text": [
      "Users with REVENUE > 0\n"
     ]
    },
    {
     "data": {
      "text/plain": [
       "ShapiroResult(statistic=0.7512773871421814, pvalue=4.1299607289602136e-08)"
      ]
     },
     "metadata": {},
     "output_type": "display_data"
    }
   ],
   "source": [
    "print('Shapiro-Wilks test for control sample')\n",
    "print(70*'-')\n",
    "print('All users')\n",
    "display(stats.shapiro(data[data['VARIANT_NAME'] == 'control']['REVENUE']))\n",
    "print('Users with REVENUE > 0')\n",
    "display(stats.shapiro(data[(data['VARIANT_NAME'] == 'control') & (data['REVENUE'] > 0)]['REVENUE']))"
   ]
  },
  {
   "cell_type": "code",
   "execution_count": 227,
   "id": "oriental-gross",
   "metadata": {},
   "outputs": [
    {
     "name": "stdout",
     "output_type": "stream",
     "text": [
      "Shapiro-Wilks test for variant sample\n",
      "----------------------------------------------------------------------\n",
      "All users\n"
     ]
    },
    {
     "data": {
      "text/plain": [
       "ShapiroResult(statistic=0.06145977973937988, pvalue=0.0)"
      ]
     },
     "metadata": {},
     "output_type": "display_data"
    },
    {
     "name": "stdout",
     "output_type": "stream",
     "text": [
      "Users with REVENUE > 0\n"
     ]
    },
    {
     "data": {
      "text/plain": [
       "ShapiroResult(statistic=0.713570773601532, pvalue=9.888944418889878e-08)"
      ]
     },
     "metadata": {},
     "output_type": "display_data"
    }
   ],
   "source": [
    "print('Shapiro-Wilks test for variant sample')\n",
    "print(70*'-')\n",
    "print('All users')\n",
    "display(stats.shapiro(data[data['VARIANT_NAME'] == 'variant']['REVENUE']))\n",
    "print('Users with REVENUE > 0')\n",
    "display(stats.shapiro(data[(data['VARIANT_NAME'] == 'variant') & (data['REVENUE'] > 0)]['REVENUE']))"
   ]
  },
  {
   "cell_type": "markdown",
   "id": "greenhouse-medline",
   "metadata": {},
   "source": [
    "Due to results of Shapiro-Wilks test we reject H0 that distribution are normal"
   ]
  },
  {
   "cell_type": "markdown",
   "id": "eight-transportation",
   "metadata": {},
   "source": [
    "## 3.2 Mann-Whitney test (distributions are independent)"
   ]
  },
  {
   "cell_type": "markdown",
   "id": "closed-berry",
   "metadata": {},
   "source": [
    "We use Mann-Whitney U test to compare two distributions because they are not normal (requirement to meet for t-test)\n",
    "\n",
    "https://ru.wikipedia.org/wiki/U-%D0%BA%D1%80%D0%B8%D1%82%D0%B5%D1%80%D0%B8%D0%B9_%D0%9C%D0%B0%D0%BD%D0%BD%D0%B0_%E2%80%94_%D0%A3%D0%B8%D1%82%D0%BD%D0%B8"
   ]
  },
  {
   "cell_type": "markdown",
   "id": "maritime-lexington",
   "metadata": {},
   "source": [
    "Null hypothesis (H0): The two groups are sampled from populations with identical distributions.  Typically, the sampled populations exhibit stochastic equality\n",
    "\n",
    "Alternative hypothesis (H1: The two groups are sampled from populations with different distributions (see the previous section).  Most of the time, this means that one of the sampled populations (groups) displays stochastic dominance."
   ]
  },
  {
   "cell_type": "code",
   "execution_count": 228,
   "id": "revised-atlas",
   "metadata": {},
   "outputs": [
    {
     "data": {
      "text/plain": [
       "MannwhitneyuResult(statistic=2845109.0, pvalue=0.12399777553410979)"
      ]
     },
     "execution_count": 228,
     "metadata": {},
     "output_type": "execute_result"
    }
   ],
   "source": [
    "# First chek distribution including REVENUE = 0\n",
    "\n",
    "stats.mannwhitneyu(data.loc[data['VARIANT_NAME'] == 'variant', 'REVENUE'],\n",
    "                   data.loc[data['VARIANT_NAME'] == 'control', 'REVENUE'])"
   ]
  },
  {
   "cell_type": "code",
   "execution_count": 230,
   "id": "instrumental-declaration",
   "metadata": {},
   "outputs": [
    {
     "data": {
      "text/plain": [
       "MannwhitneyuResult(statistic=1029.0, pvalue=0.2657096108542354)"
      ]
     },
     "execution_count": 230,
     "metadata": {},
     "output_type": "execute_result"
    }
   ],
   "source": [
    "# Only uses with REVENUE > 0\n",
    "\n",
    "stats.mannwhitneyu(data.loc[(data['VARIANT_NAME'] == 'variant') & (data['REVENUE'] > 0), 'REVENUE'],\n",
    "                   data.loc[(data['VARIANT_NAME'] == 'control') & (data['REVENUE'] > 0), 'REVENUE'])"
   ]
  },
  {
   "cell_type": "markdown",
   "id": "athletic-trading",
   "metadata": {},
   "source": [
    "We confirm H0 that distributions are the same due to hight p-value = 0.266"
   ]
  },
  {
   "cell_type": "markdown",
   "id": "different-energy",
   "metadata": {},
   "source": [
    "## 3.3 t-test"
   ]
  },
  {
   "cell_type": "markdown",
   "id": "approved-scroll",
   "metadata": {},
   "source": [
    "Just for reference, don't rely on this result"
   ]
  },
  {
   "cell_type": "code",
   "execution_count": 231,
   "id": "unnecessary-colors",
   "metadata": {},
   "outputs": [
    {
     "name": "stdout",
     "output_type": "stream",
     "text": [
      "variant = 0.075 +/- 0.018\n",
      "control = 0.115 +/- 0.024\n",
      "delta = -0.03999\n",
      "t = 1.35301\n",
      "NDF = 4780\n",
      "p-value = 0.17611509437414055\n"
     ]
    }
   ],
   "source": [
    "mean_variant = data[['VARIANT_NAME', 'REVENUE']].groupby(['VARIANT_NAME'])\\\n",
    "    .agg('mean').loc['variant'][0]\n",
    "mean_control = data[['VARIANT_NAME', 'REVENUE']].groupby(['VARIANT_NAME'])\\\n",
    "    .agg('mean').loc['control'][0]\n",
    "\n",
    "std_variant = data[['VARIANT_NAME', 'REVENUE']].groupby(['VARIANT_NAME'])\\\n",
    "    .agg('std').loc['variant'][0]\n",
    "\n",
    "std_control = data[['VARIANT_NAME', 'REVENUE']].groupby(['VARIANT_NAME'])\\\n",
    "    .agg('std').loc['control'][0]\n",
    "\n",
    "n_variant = data[['VARIANT_NAME', 'REVENUE']].groupby(['VARIANT_NAME'])\\\n",
    "    .agg('count').loc['variant'][0]\n",
    "\n",
    "n_control = data[['VARIANT_NAME', 'REVENUE']].groupby(['VARIANT_NAME'])\\\n",
    "    .agg('count').loc['control'][0]\n",
    "\n",
    "delta = mean_variant - mean_control\n",
    "sigma_variant = std_variant / np.sqrt(n_variant)\n",
    "sigma_control = std_control / np.sqrt(n_control)\n",
    "t = abs(delta / np.sqrt(sigma_variant**2 + sigma_control**2))\n",
    "\n",
    "ndf = data.shape[0] - 2\n",
    "\n",
    "p_value = 2 * (1 - stats.t(df=ndf).cdf(t))\n",
    "p_value = 2 * stats.t(df=ndf).sf(t)\n",
    "\n",
    "print(f\"variant = {round(mean_variant, 3)} +/- {round(sigma_variant, 3)}\")\n",
    "print(f\"control = {round(mean_control, 3)} +/- {round(sigma_control, 3)}\")\n",
    "print(f\"delta = {round(delta, 5)}\")\n",
    "print(f\"t = {round(t, 5)}\")\n",
    "print(f\"NDF = {ndf}\")\n",
    "print(f\"p-value = {p_value}\")"
   ]
  },
  {
   "cell_type": "markdown",
   "id": "negative-savage",
   "metadata": {},
   "source": [
    "## 3.4 Bootstrap"
   ]
  },
  {
   "cell_type": "code",
   "execution_count": 238,
   "id": "conceptual-cheat",
   "metadata": {},
   "outputs": [
    {
     "data": {
      "text/plain": [
       "array([0., 0., 0., ..., 0., 0., 0.])"
      ]
     },
     "execution_count": 238,
     "metadata": {},
     "output_type": "execute_result"
    }
   ],
   "source": [
    "test_data = data.loc[data.VARIANT_NAME == 'control', 'REVENUE'].values\n",
    "test_data"
   ]
  },
  {
   "cell_type": "code",
   "execution_count": 237,
   "id": "adapted-trunk",
   "metadata": {},
   "outputs": [
    {
     "data": {
      "text/plain": [
       "array([[1017,  199,  733, ...,  588, 1836,   77],\n",
       "       [ 646,  873, 1839, ...,  391, 2080, 1346],\n",
       "       [1628, 1565, 1689, ..., 1496, 1726, 2217],\n",
       "       ...,\n",
       "       [1799, 2226, 1594, ..., 1159, 1396, 1280],\n",
       "       [ 895, 1649, 1089, ..., 1783, 1973, 1322],\n",
       "       [ 795,  442, 2042, ..., 1318, 1327,  882]])"
      ]
     },
     "execution_count": 237,
     "metadata": {},
     "output_type": "execute_result"
    }
   ],
   "source": [
    "np.random.randint(0, len(test_data), (1000, len(test_data)))"
   ]
  },
  {
   "cell_type": "code",
   "execution_count": 239,
   "id": "authentic-requirement",
   "metadata": {},
   "outputs": [],
   "source": [
    "def get_bootstrap_samples(data, n_samples=1000):\n",
    "    # create numpy array with shape (n_samples, len(data)) with indices of rows\n",
    "    indices = np.random.randint(0, len(data), size=(n_samples, len(data)))\n",
    "    samples = data[indices]\n",
    "    print(f\"shape = {samples.shape}\")\n",
    "    return samples\n",
    "\n",
    "def stat_intervals(stat, alpha=0.05):\n",
    "    boundaries = np.percentile(stat, [100 * alpha / 2., 100 * (1 - alpha / 2.)])\n",
    "    return boundaries"
   ]
  },
  {
   "cell_type": "code",
   "execution_count": 245,
   "id": "sunrise-intersection",
   "metadata": {},
   "outputs": [
    {
     "name": "stdout",
     "output_type": "stream",
     "text": [
      "shape = (10000, 2389)\n",
      "shape = (10000, 2393)\n"
     ]
    }
   ],
   "source": [
    "# samples for all users\n",
    "\n",
    "control_samples = get_bootstrap_samples(data.loc[data.VARIANT_NAME == 'control', 'REVENUE'].values, 10000)\n",
    "variant_samples = get_bootstrap_samples(data.loc[data.VARIANT_NAME == 'variant', 'REVENUE'].values, 10000)"
   ]
  },
  {
   "cell_type": "code",
   "execution_count": 246,
   "id": "adequate-permission",
   "metadata": {},
   "outputs": [
    {
     "name": "stdout",
     "output_type": "stream",
     "text": [
      "shape = (10000, 53)\n",
      "shape = (10000, 42)\n"
     ]
    }
   ],
   "source": [
    "# samples only for paying users (REVENUE > 0)\n",
    "\n",
    "control_samples_paid = get_bootstrap_samples(data.loc[(data.VARIANT_NAME == 'control') & (data['REVENUE'] > 0), 'REVENUE'].values, 10000)\n",
    "variant_samples_paid = get_bootstrap_samples(data.loc[(data.VARIANT_NAME == 'variant') & (data['REVENUE'] > 0), 'REVENUE'].values, 10000)"
   ]
  },
  {
   "cell_type": "code",
   "execution_count": 248,
   "id": "protecting-working",
   "metadata": {},
   "outputs": [
    {
     "data": {
      "text/plain": [
       "Text(0.5, 1.0, 'Sample mean distribution for all users')"
      ]
     },
     "execution_count": 248,
     "metadata": {},
     "output_type": "execute_result"
    },
    {
     "data": {
      "image/png": "[encoded data removed]",
      "text/plain": [
       "<Figure size 720x360 with 1 Axes>"
      ]
     },
     "metadata": {
      "needs_background": "light"
     },
     "output_type": "display_data"
    }
   ],
   "source": [
    "# Take a look on the distribution of means of these samples\n",
    "\n",
    "fig, ax = plt.subplots(figsize=(10,5))\n",
    "sns.kdeplot(np.mean(control_samples, axis=1), shade=True, label='control')\n",
    "sns.kdeplot(np.mean(variant_samples, axis=1), shade=True, label='variant')\n",
    "plt.title('Sample mean distribution for all users')"
   ]
  },
  {
   "cell_type": "code",
   "execution_count": 249,
   "id": "joined-accordance",
   "metadata": {},
   "outputs": [
    {
     "data": {
      "text/plain": [
       "Text(0.5, 1.0, 'Sample mean distribution for paying users')"
      ]
     },
     "execution_count": 249,
     "metadata": {},
     "output_type": "execute_result"
    },
    {
     "data": {
      "image/png": "[encoded data removed]",
      "text/plain": [
       "<Figure size 720x360 with 1 Axes>"
      ]
     },
     "metadata": {
      "needs_background": "light"
     },
     "output_type": "display_data"
    }
   ],
   "source": [
    "fig, ax = plt.subplots(figsize=(10,5))\n",
    "sns.kdeplot(np.mean(control_samples_paid, axis=1), shade=True, label='control')\n",
    "sns.kdeplot(np.mean(variant_samples_paid, axis=1), shade=True, label='variant')\n",
    "plt.title('Sample mean distribution for paying users')"
   ]
  },
  {
   "cell_type": "markdown",
   "id": "operating-entrance",
   "metadata": {},
   "source": [
    "We can see the difference between distributions means but there are strong overlap"
   ]
  },
  {
   "cell_type": "code",
   "execution_count": null,
   "id": "technological-story",
   "metadata": {},
   "outputs": [],
   "source": []
  }
 ],
 "metadata": {
  "kernelspec": {
   "display_name": "Python 3 (ipykernel)",
   "language": "python",
   "name": "python3"
  },
  "language_info": {
   "codemirror_mode": {
    "name": "ipython",
    "version": 3
   },
   "file_extension": ".py",
   "mimetype": "text/x-python",
   "name": "python",
   "nbconvert_exporter": "python",
   "pygments_lexer": "ipython3",
   "version": "3.7.7"
  }
 },
 "nbformat": 4,
 "nbformat_minor": 5
}
